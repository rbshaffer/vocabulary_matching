{
 "cells": [
  {
   "cell_type": "code",
   "execution_count": 1,
   "metadata": {},
   "outputs": [],
   "source": [
    "import re\n",
    "import json\n",
    "import ontospy\n",
    "import networkx as nx\n",
    "import matplotlib.pyplot as plt\n",
    "\n",
    "with open('/home/rbshaffer/Downloads/thesaurus.json', 'r') as f:\n",
    "    thesaurus = json.loads(f.read())\n",
    "    thesaurus = thesaurus[0]\n",
    "    \n",
    "constitute = ontospy.Ontospy('/home/rbshaffer/Downloads/ontology.owl')"
   ]
  },
  {
   "cell_type": "code",
   "execution_count": 2,
   "metadata": {
    "collapsed": true,
    "scrolled": true
   },
   "outputs": [],
   "source": [
    "# some functions to help manipulate the Constitute ontology\n",
    "\n",
    "def build_constitute_edgelist(node, edgelist=[]):\n",
    "    parent_lab = str(node.uri).split('/')[-1]\n",
    "    children = node.children()\n",
    "    \n",
    "    for child in children:\n",
    "        child_lab = str(child.uri).split('/')[-1]\n",
    "        edgelist.append([parent_lab, child_lab])\n",
    "        edgelist = build_constitute_edgelist(child, edgelist)\n",
    "        \n",
    "    \n",
    "    return edgelist\n",
    "\n",
    "def build_constitute_nodedic(node, nodedic={}):\n",
    "    parent_lab = str(node.uri).split('/')[-1]\n",
    "    if parent_lab not in nodedic:\n",
    "        nodedic[parent_lab] = node.uri\n",
    "        \n",
    "    children = node.children()\n",
    "    \n",
    "    for child in children:\n",
    "        nodedic = build_constitute_nodedic(child, nodedic)\n",
    "        \n",
    "    return nodedic"
   ]
  },
  {
   "cell_type": "code",
   "execution_count": 3,
   "metadata": {
    "collapsed": true
   },
   "outputs": [],
   "source": [
    "# some functions to manipulate the Venice thesaurus\n",
    "def build_thesaurus_nodedic(node, nodedic={}):\n",
    "    parent_lab = node.get('label')\n",
    "    \n",
    "    if parent_lab and parent_lab not in nodedic:\n",
    "        parent_lab = re.sub('\\<IT[-+]\\>', '', parent_lab)\n",
    "        nodedic[parent_lab] = {'id': node['id'], 'synonyms': node['synonyms']}\n",
    "    \n",
    "    for child in node['nodes']:\n",
    "        nodedic = build_thesaurus_nodedic(child, nodedic)\n",
    "        \n",
    "    return nodedic"
   ]
  },
  {
   "cell_type": "code",
   "execution_count": 20,
   "metadata": {
    "collapsed": true
   },
   "outputs": [],
   "source": [
    "# class to try out various matching approaches\n",
    "class Match:\n",
    "    def __init__(self, reference):\n",
    "        self.ref = reference\n",
    "        \n",
    "    def str_match(self, term):\n",
    "        term = self._preprocess(term)\n",
    "        ref_list = [self._preprocess(ref) for ref in self.ref]\n",
    "        \n",
    "        matches = [ref for ref in ref_list if ref == term]\n",
    "        \n",
    "        return matches\n",
    "        \n",
    "    def _preprocess(self, term):\n",
    "        import string\n",
    "        \n",
    "        term = re.sub('[' + string.punctuation + ']', '', term)\n",
    "        term = term.lower()\n",
    "        \n",
    "        return term\n",
    "    "
   ]
  },
  {
   "cell_type": "code",
   "execution_count": 18,
   "metadata": {},
   "outputs": [],
   "source": [
    "constitute_base_node = constitute.getClass('/Topics')[0]\n",
    "constitute_nodes = build_constitute_nodedic(constitute_base_node)\n",
    "\n",
    "# renaming node key in the top-level element to make recursion easier\n",
    "try:\n",
    "    thesaurus['nodes'] = thesaurus.pop('data')\n",
    "except KeyError:\n",
    "    pass\n",
    "\n",
    "thesaurus_nodes = build_thesaurus_nodedic(thesaurus)"
   ]
  },
  {
   "cell_type": "code",
   "execution_count": 21,
   "metadata": {},
   "outputs": [
    {
     "name": "stdout",
     "output_type": "stream",
     "text": [
      "['opinion', 'executive', 'flag', 'elections', 'finance', 'religion', 'press', 'evidence', 'budget', 'motto', 'immunity', 'language', 'quorum']\n"
     ]
    }
   ],
   "source": [
    "match = Match(constitute_nodes)\n",
    "\n",
    "matched_terms = []\n",
    "for node in thesaurus_nodes:\n",
    "    matched_terms += match.str_match(node)\n",
    "    \n",
    "print('String matches:')\n",
    "print(matched_terms)\n",
    "\n"
   ]
  },
  {
   "cell_type": "code",
   "execution_count": 30,
   "metadata": {},
   "outputs": [],
   "source": [
    "import gensim\n",
    "\n",
    "word2vec_model = gensim.models.Word2Vec.load('word2vec_model_200_no_stem.pydata')\n",
    "\n"
   ]
  },
  {
   "cell_type": "code",
   "execution_count": 29,
   "metadata": {},
   "outputs": [
    {
     "data": {
      "text/plain": [
       "[('still', 0.4892862141132355),\n",
       " ('adjourned', 0.48248758912086487),\n",
       " ('sitting', 0.47218817472457886),\n",
       " ('meeting', 0.4566667377948761),\n",
       " ('tie', 0.4562295079231262),\n",
       " ('threequarters', 0.4511076807975769),\n",
       " ('ascertains', 0.4487970769405365),\n",
       " ('signatories', 0.4469468891620636),\n",
       " ('assembled', 0.4467349052429199),\n",
       " ('fourfifths', 0.4423031508922577)]"
      ]
     },
     "execution_count": 29,
     "metadata": {},
     "output_type": "execute_result"
    }
   ],
   "source": [
    "word2vec_model.most_similar('quorum')"
   ]
  }
 ],
 "metadata": {
  "kernelspec": {
   "display_name": "Python 3",
   "language": "python",
   "name": "python3"
  },
  "language_info": {
   "codemirror_mode": {
    "name": "ipython",
    "version": 3
   },
   "file_extension": ".py",
   "mimetype": "text/x-python",
   "name": "python",
   "nbconvert_exporter": "python",
   "pygments_lexer": "ipython3",
   "version": "3.5.2"
  }
 },
 "nbformat": 4,
 "nbformat_minor": 2
}
